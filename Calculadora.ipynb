{
  "nbformat": 4,
  "nbformat_minor": 0,
  "metadata": {
    "colab": {
      "provenance": [],
      "authorship_tag": "ABX9TyMA64aJ3fZ6xsv4z3D3SUVK",
      "include_colab_link": true
    },
    "kernelspec": {
      "name": "python3",
      "display_name": "Python 3"
    },
    "language_info": {
      "name": "python"
    }
  },
  "cells": [
    {
      "cell_type": "markdown",
      "metadata": {
        "id": "view-in-github",
        "colab_type": "text"
      },
      "source": [
        "<a href=\"https://colab.research.google.com/github/CarlosGallego24/Procesamiento_Imagenes/blob/main/Calculadora.ipynb\" target=\"_parent\"><img src=\"https://colab.research.google.com/assets/colab-badge.svg\" alt=\"Open In Colab\"/></a>"
      ]
    },
    {
      "cell_type": "code",
      "execution_count": 7,
      "metadata": {
        "id": "RFoXcGiV0el_"
      },
      "outputs": [],
      "source": [
        "class Calculadora:\n",
        "    def __init__(self):\n",
        "        self.resultado = 0\n",
        "\n",
        "    def sumar(self, numero):\n",
        "        self.resultado += numero\n",
        "\n",
        "    def restar(self, numero):\n",
        "        self.resultado -= numero\n",
        "\n",
        "    def multiplicar(self, numero):\n",
        "        self.resultado *= numero\n",
        "\n",
        "    def dividir(self, numero):\n",
        "        if numero != 0:\n",
        "            self.resultado /= numero\n",
        "        else:\n",
        "            print(\"Error: No se puede dividir entre cero\")\n",
        "\n",
        "    def total(self):\n",
        "        return self.resultado\n"
      ]
    },
    {
      "cell_type": "code",
      "source": [
        "calculadora = Calculadora()\n",
        "\n",
        "calculadora.sumar(150)\n",
        "calculadora.restar(100)\n",
        "calculadora.multiplicar(3)\n",
        "calculadora.dividir(5)\n",
        "\n",
        "print(\"Resultado:\", calculadora.total())"
      ],
      "metadata": {
        "colab": {
          "base_uri": "https://localhost:8080/"
        },
        "id": "e6rNB60Y07bA",
        "outputId": "8e9b36cc-3d9c-425c-9e20-5b3df37a8f23"
      },
      "execution_count": 8,
      "outputs": [
        {
          "output_type": "stream",
          "name": "stdout",
          "text": [
            "Resultado: 30.0\n"
          ]
        }
      ]
    }
  ]
}